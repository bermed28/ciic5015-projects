{
 "cells": [
  {
   "attachments": {},
   "cell_type": "markdown",
   "metadata": {
    "pycharm": {
     "name": "#%% md\n"
    }
   },
   "source": [
    "# CIIC5015 - Introduction to Artificial Intelligence\n",
    "## Project 2 - Fully Connected Neural Networks\n",
    "### Part 1 - Regression\n",
    "\n",
    "Fernando J. Bermudez Medina - 802-18-0426"
   ]
  },
  {
   "attachments": {},
   "cell_type": "markdown",
   "metadata": {
    "pycharm": {
     "name": "#%% md\n"
    }
   },
   "source": [
    "Import the necesary libraries & Classes\n",
    "- Matplotlib\n",
    "- NumPy\n",
    "- Pandas\n",
    "- PyTorch\n",
    "    - `TensorDataset` & `DataLoader` for data processing"
   ]
  },
  {
   "cell_type": "code",
   "execution_count": 1,
   "metadata": {
    "pycharm": {
     "name": "#%%\n"
    }
   },
   "outputs": [],
   "source": [
    "import matplotlib.pyplot as plt\n",
    "import numpy as np\n",
    "import pandas as pd\n",
    "import torch\n",
    "from torch.utils.data import TensorDataset, DataLoader\n",
    "import torch.nn.utils as utils\n",
    "\n",
    "# Make NumPy printouts easier to read.\n",
    "np.set_printoptions(precision=3, suppress=True)"
   ]
  },
  {
   "attachments": {},
   "cell_type": "markdown",
   "metadata": {},
   "source": [
    "### Download & Process the Data\n",
    "\n",
    "To fetch the data to use for training, we will use the Pandas framework. The dataset will consist of a Pandas DataFrame as shown in the cell below. Once fetched, we will separate the features (Displacement, Horsepower, etc.) from the labels (MPG). We will also split the data in two sets, a training set and a testing set. Once split, we will normalize all the features for the training and testing sets using Z-Score normalization of the following form:\n",
    "\n",
    "$$Z = \\frac{x - \\mu}{\\sigma}$$\n",
    "\n",
    "Where $\\mu$ is the mean and $\\sigma$ is the standard deviation"
   ]
  },
  {
   "cell_type": "code",
   "execution_count": 2,
   "metadata": {
    "pycharm": {
     "name": "#%%\n"
    }
   },
   "outputs": [],
   "source": [
    "url = 'http://archive.ics.uci.edu/ml/machine-learning-databases/auto-mpg/auto-mpg.data'\n",
    "column_names = ['MPG', 'Cylinders', 'Displacement', 'Horsepower', 'Weight', 'Acceleration', 'Model Year', 'Origin']\n",
    "\n",
    "dataset = pd.read_csv(url, names=column_names, na_values='?', comment='\\t', sep=' ', skipinitialspace=True).dropna()\n",
    "\n",
    "dataset.tail(n=30) # Output the last 30 rows of the DataFrame\n",
    "\n",
    "# Split 80% dataset for training and 20% for testing\n",
    "training_features = dataset.sample(frac=0.8, random_state=0).copy()\n",
    "testing_features = dataset.drop(training_features.index).copy()\n",
    "\n",
    "training_labels = training_features.pop('MPG')\n",
    "testing_labels = testing_features.pop('MPG')\n",
    "\n",
    "# Normalize all the data\n",
    "normalized_training_features = (training_features - training_features.mean()) / training_features.std()\n",
    "normalized_testing_features = (testing_features - testing_features.mean()) / testing_features.std()"
   ]
  },
  {
   "attachments": {},
   "cell_type": "markdown",
   "metadata": {},
   "source": [
    "### The Hyperparameters\n",
    "\n",
    "We define next the parameters that we will use to fine-tune and adust how our models trains. The hyperparameters defined are as follows:\n",
    "1. `number_of_features` - The number of training features the dataset has\n",
    "2. `batch_size` - How many batches of data we will pass the network while training. Usually it is a number of the form $2^n$, where $n$ is an integer.\n",
    "3. `learning_rate` - How far the model \"jumps\" when doing Gradient Descent, usually a value between 0 and 1.\n",
    "4. `epochs` - How many times we will pass the model the same batches to do training"
   ]
  },
  {
   "cell_type": "code",
   "execution_count": 3,
   "metadata": {},
   "outputs": [],
   "source": [
    "number_of_features = training_features.shape[1]\n",
    "batch_size = 16\n",
    "learning_rate = 0.01\n",
    "epochs = 20"
   ]
  },
  {
   "attachments": {},
   "cell_type": "markdown",
   "metadata": {},
   "source": [
    "### Initalize the `Dataset` & `DataLoader`\n",
    "\n",
    "Using PyTorch's `TensorDataset` & `DataLoader` classes, we load the training data and the labels to be separated into batches of size `batch_size` and to be trained in teh training loop later on. We first convert the Pandas DataFrames to PyTorch Tensors, and once that has been processed, we load the tensors into an instance of `DataLoader`."
   ]
  },
  {
   "cell_type": "code",
   "execution_count": 4,
   "metadata": {},
   "outputs": [],
   "source": [
    "normalized_features = torch.tensor(np.array(normalized_training_features), dtype=torch.float32)\n",
    "labels = torch.tensor(np.array(training_labels), dtype=torch.float32)\n",
    "\n",
    "# Create dataset and dataloader\n",
    "train_dataset = TensorDataset(normalized_features, labels)\n",
    "train_loader =  DataLoader(train_dataset, batch_size=batch_size, shuffle=True, num_workers=2)"
   ]
  },
  {
   "attachments": {},
   "cell_type": "markdown",
   "metadata": {
    "pycharm": {
     "name": "#%% md\n"
    }
   },
   "source": [
    "### Define the Neural Networks to train\n",
    "\n",
    "Using PyTorch's `nn.Linear` class, we can create a linear regression model that has one input layer and one output layer. We also create 2 extra regression models that contain 4 & 5 layers respectively. Each layer is stored inside an instance of `torch.nn.Sequential`. Since these are all reression models, they will all have an outputdimension of 1."
   ]
  },
  {
   "cell_type": "code",
   "execution_count": 5,
   "metadata": {
    "pycharm": {
     "name": "#%%\n"
    }
   },
   "outputs": [],
   "source": [
    "class LinearRegressionModel(torch.nn.Module):\n",
    "    def __init__(self, input_size, output_size):\n",
    "        super(LinearRegressionModel, self).__init__()\n",
    "        self.layer = torch.nn.Linear(input_size, output_size)\n",
    "        \n",
    "    def forward(self, x):\n",
    "        return self.layer(x)\n",
    "    \n",
    "class NNModel2(torch.nn.Module):\n",
    "    def __init__(self, input_features):\n",
    "        super(NNModel2, self).__init__()\n",
    "        self.layers = torch.nn.Sequential(\n",
    "            torch.nn.Linear(input_features, 10),\n",
    "            torch.nn.ReLU(),\n",
    "            torch.nn.Linear(10, 20),\n",
    "            torch.nn.ReLU(),\n",
    "            torch.nn.Linear(20, 10),\n",
    "            torch.nn.ReLU(),\n",
    "            torch.nn.Linear(10, 1)\n",
    "        )\n",
    "    \n",
    "    def forward(self, x):\n",
    "        return self.layers(x)\n",
    " \n",
    "\n",
    "class NNModel3(torch.nn.Module):\n",
    "    def __init__(self, input_features):\n",
    "        super(NNModel3, self).__init__()\n",
    "        self.layers = torch.nn.Sequential(\n",
    "            torch.nn.Linear(input_features, 10),\n",
    "            torch.nn.ReLU(),\n",
    "            torch.nn.Linear(10, 20),\n",
    "            torch.nn.ReLU(),\n",
    "            torch.nn.Linear(20, 30),\n",
    "            torch.nn.ReLU(),\n",
    "            torch.nn.Linear(30, 20),\n",
    "            torch.nn.ReLU(),\n",
    "            torch.nn.Linear(20, 1)\n",
    "        )\n",
    "    \n",
    "    def forward(self, x):\n",
    "        return self.layers(x)"
   ]
  },
  {
   "attachments": {},
   "cell_type": "markdown",
   "metadata": {
    "pycharm": {
     "name": "#%% md\n"
    }
   },
   "source": [
    "### The Training Loop\n",
    "\n",
    "Once we define the model and its hyperparameters, we can define the loop used for training. \n",
    "\n",
    "The algorithm follows the following pseudocode:\n",
    "\n",
    "```\n",
    "for an n number of epochs, do the following:\n",
    "    for each batch in train_loader:\n",
    "        reset gradients to 0\n",
    "        make a prediction (forward pass)\n",
    "        compute loss value for that prediction\n",
    "        back propagate error to all neurons (backward pass)\n",
    "        clip gradients if necesarry (NN2 & NN3) to avoid exploding gradients\n",
    "        adjust gradients based on error and back propagation\n",
    "        compute average batch loss and store it for plotting\n",
    "```\n"
   ]
  },
  {
   "cell_type": "code",
   "execution_count": 6,
   "metadata": {
    "pycharm": {
     "name": "#%%\n"
    }
   },
   "outputs": [],
   "source": [
    "def train_model(model, epochs, learning_rate, loss_list, network):\n",
    "    print(f\"Starting Neural Network {network} training\")\n",
    "    criterion = torch.nn.MSELoss()\n",
    "    optimizer = torch.optim.SGD(model.parameters(), lr=learning_rate)\n",
    "    \n",
    "    for epoch in range(epochs):\n",
    "        running_loss = 0.0\n",
    "        for index, (features, labels) in enumerate(train_loader, 0):\n",
    "            optimizer.zero_grad()\n",
    "            \n",
    "            predictions = model(features)\n",
    "            loss = criterion(predictions, labels.view(-1, 1))\n",
    "            \n",
    "            running_loss += loss.item()\n",
    "                        \n",
    "            loss.backward()\n",
    "            if network != 1:\n",
    "                utils.clip_grad_norm_(model.parameters(), max_norm=16, norm_type=2.0)\n",
    "            optimizer.step()\n",
    "            \n",
    "            if (index + 1) % 20 == 0:\n",
    "                print(f\"Epoch: {epoch + 1:2d} - Index: {index + 1:2d} - Average Batch Loss: {running_loss / 20:.3f}\")\n",
    "                loss_list.append(running_loss / 20)\n",
    "                running_loss = 0.0\n",
    "                \n",
    "    print(f\"Finished Neural Network {network} training\")\n"
   ]
  },
  {
   "attachments": {},
   "cell_type": "markdown",
   "metadata": {
    "pycharm": {
     "name": "#%% md\n"
    }
   },
   "source": [
    "### Train Models\n",
    "\n",
    "Once everything is defined and constructed, we can proceed to pass out three models through our training loop, in each loop we will store the values of the average loss per batch that the `DataLoader` returns in a list to be able to plot it later."
   ]
  },
  {
   "cell_type": "code",
   "execution_count": 20,
   "metadata": {
    "pycharm": {
     "name": "#%%\n"
    }
   },
   "outputs": [
    {
     "name": "stdout",
     "output_type": "stream",
     "text": [
      "Starting Neural Network 1 training\n",
      "Epoch:  1 - Index: 20 - Average Batch Loss: 400.170\n",
      "Epoch:  2 - Index: 20 - Average Batch Loss: 181.406\n",
      "Epoch:  3 - Index: 20 - Average Batch Loss: 87.572\n",
      "Epoch:  4 - Index: 20 - Average Batch Loss: 45.369\n",
      "Epoch:  5 - Index: 20 - Average Batch Loss: 27.127\n",
      "Epoch:  6 - Index: 20 - Average Batch Loss: 18.577\n",
      "Epoch:  7 - Index: 20 - Average Batch Loss: 15.073\n",
      "Epoch:  8 - Index: 20 - Average Batch Loss: 13.497\n",
      "Epoch:  9 - Index: 20 - Average Batch Loss: 12.677\n",
      "Epoch: 10 - Index: 20 - Average Batch Loss: 12.079\n",
      "Epoch: 11 - Index: 20 - Average Batch Loss: 11.925\n",
      "Epoch: 12 - Index: 20 - Average Batch Loss: 11.774\n",
      "Epoch: 13 - Index: 20 - Average Batch Loss: 11.791\n",
      "Epoch: 14 - Index: 20 - Average Batch Loss: 11.791\n",
      "Epoch: 15 - Index: 20 - Average Batch Loss: 12.012\n",
      "Epoch: 16 - Index: 20 - Average Batch Loss: 11.742\n",
      "Epoch: 17 - Index: 20 - Average Batch Loss: 11.842\n",
      "Epoch: 18 - Index: 20 - Average Batch Loss: 11.555\n",
      "Epoch: 19 - Index: 20 - Average Batch Loss: 11.645\n",
      "Epoch: 20 - Index: 20 - Average Batch Loss: 11.615\n",
      "Finished Neural Network 1 training\n"
     ]
    }
   ],
   "source": [
    "loss_list1 = []\n",
    "regression_model = LinearRegressionModel(number_of_features, 1)\n",
    "train_model(regression_model, epochs, learning_rate, loss_list1, 1)"
   ]
  },
  {
   "cell_type": "code",
   "execution_count": 21,
   "metadata": {},
   "outputs": [
    {
     "name": "stdout",
     "output_type": "stream",
     "text": [
      "Starting Neural Network 2 training\n",
      "Epoch:  1 - Index: 20 - Average Batch Loss: 466.333\n",
      "Epoch:  2 - Index: 20 - Average Batch Loss: 49.073\n",
      "Epoch:  3 - Index: 20 - Average Batch Loss: 14.780\n",
      "Epoch:  4 - Index: 20 - Average Batch Loss: 11.411\n",
      "Epoch:  5 - Index: 20 - Average Batch Loss: 13.367\n",
      "Epoch:  6 - Index: 20 - Average Batch Loss: 10.402\n",
      "Epoch:  7 - Index: 20 - Average Batch Loss: 11.596\n",
      "Epoch:  8 - Index: 20 - Average Batch Loss: 10.117\n",
      "Epoch:  9 - Index: 20 - Average Batch Loss: 10.304\n",
      "Epoch: 10 - Index: 20 - Average Batch Loss: 11.168\n",
      "Epoch: 11 - Index: 20 - Average Batch Loss: 8.972\n",
      "Epoch: 12 - Index: 20 - Average Batch Loss: 9.382\n",
      "Epoch: 13 - Index: 20 - Average Batch Loss: 9.125\n",
      "Epoch: 14 - Index: 20 - Average Batch Loss: 9.945\n",
      "Epoch: 15 - Index: 20 - Average Batch Loss: 9.499\n",
      "Epoch: 16 - Index: 20 - Average Batch Loss: 9.871\n",
      "Epoch: 17 - Index: 20 - Average Batch Loss: 9.931\n",
      "Epoch: 18 - Index: 20 - Average Batch Loss: 9.615\n",
      "Epoch: 19 - Index: 20 - Average Batch Loss: 9.061\n",
      "Epoch: 20 - Index: 20 - Average Batch Loss: 8.908\n",
      "Finished Neural Network 2 training\n"
     ]
    }
   ],
   "source": [
    "loss_list2 = []\n",
    "nn_model2 = NNModel2(number_of_features)\n",
    "train_model(nn_model2, epochs, learning_rate, loss_list2, 2)"
   ]
  },
  {
   "cell_type": "code",
   "execution_count": 9,
   "metadata": {},
   "outputs": [
    {
     "name": "stdout",
     "output_type": "stream",
     "text": [
      "Starting Neural Network 3 training\n",
      "Epoch:  1 - Index: 20 - Average Batch Loss: 460.414\n",
      "Epoch:  2 - Index: 20 - Average Batch Loss: 38.699\n",
      "Epoch:  3 - Index: 20 - Average Batch Loss: 15.144\n",
      "Epoch:  4 - Index: 20 - Average Batch Loss: 11.867\n",
      "Epoch:  5 - Index: 20 - Average Batch Loss: 12.359\n",
      "Epoch:  6 - Index: 20 - Average Batch Loss: 13.423\n",
      "Epoch:  7 - Index: 20 - Average Batch Loss: 11.870\n",
      "Epoch:  8 - Index: 20 - Average Batch Loss: 11.337\n",
      "Epoch:  9 - Index: 20 - Average Batch Loss: 12.037\n",
      "Epoch: 10 - Index: 20 - Average Batch Loss: 12.231\n",
      "Epoch: 11 - Index: 20 - Average Batch Loss: 10.111\n",
      "Epoch: 12 - Index: 20 - Average Batch Loss: 9.881\n",
      "Epoch: 13 - Index: 20 - Average Batch Loss: 11.367\n",
      "Epoch: 14 - Index: 20 - Average Batch Loss: 12.447\n",
      "Epoch: 15 - Index: 20 - Average Batch Loss: 10.089\n",
      "Epoch: 16 - Index: 20 - Average Batch Loss: 10.950\n",
      "Epoch: 17 - Index: 20 - Average Batch Loss: 10.450\n",
      "Epoch: 18 - Index: 20 - Average Batch Loss: 10.334\n",
      "Epoch: 19 - Index: 20 - Average Batch Loss: 11.755\n",
      "Epoch: 20 - Index: 20 - Average Batch Loss: 11.218\n",
      "Finished Neural Network 3 training\n"
     ]
    }
   ],
   "source": [
    "loss_list3 = []\n",
    "nn_model3 = NNModel3(number_of_features)\n",
    "train_model(nn_model3, epochs, learning_rate, loss_list3, 3)"
   ]
  },
  {
   "attachments": {},
   "cell_type": "markdown",
   "metadata": {
    "pycharm": {
     "name": "#%% md\n"
    }
   },
   "source": [
    "### Plot The Average Batch Loss For Each Model\n",
    "\n",
    "Now, we take the batch loss values collected from our training process to see if the loss converged (or plateaued) to a certain value in each model.\n",
    "\n",
    "To do this, we define two functions to help us visualize the data better using `Matplotlib.pyplot`\n",
    "- `plot_loss(loss_list, n)`:\n",
    "    - The method takes as parameter the lists of batch loss values from a number of networks `n` and plots them. The x axis represents the epoch, the y value the average batch loss of hte networks\n",
    "- `accuracy(model, nn, epsilon)`:\n",
    "    - The method takes as parameter the network to test, a number indicating what network it is (1, 2, 3) and a constant `epsilon` that will give us a range to test a predicted label against it's true value."
   ]
  },
  {
   "cell_type": "code",
   "execution_count": 31,
   "metadata": {
    "pycharm": {
     "name": "#%%\n"
    }
   },
   "outputs": [],
   "source": [
    "def plot_loss(loss_lists, n):\n",
    "    for i in range(n):\n",
    "        plt.plot(loss_lists[i], 'r' if i + 1 == 1 else 'b' if i + 1 == 2 else 'g', label=\"Linear Regression\" if i + 1 == 1 else f\"Neural Network {i + 1}\") # Plot the loss function in red color\n",
    "    plt.xlabel('Epochs')\n",
    "    plt.ylabel('Loss')\n",
    "    plt.legend()\n",
    "    plt.grid(True, color='grey')\n",
    "    plt.show()\n",
    "    \n",
    "\n",
    "def accuracy(model, nn, epsilon):\n",
    "    correct = 0    \n",
    "    with torch.no_grad():\n",
    "        features = torch.tensor(np.array(normalized_testing_features), dtype=torch.float32)\n",
    "        prediction = model.forward(features)\n",
    "        i = 0\n",
    "        total = len(testing_labels)\n",
    "        for label in testing_labels:\n",
    "            # print(f\"{label.item() - epsilon} <= {prediction[i].item()} <= {label.item() + epsilon}\")\n",
    "            correct += 1 if label - epsilon <= prediction[i].item() <= label + epsilon else 0\n",
    "            i += 1\n",
    "            \n",
    "    print(f\"Accuracy of Neural Network {nn}: {100 * correct // total}%\")\n"
   ]
  },
  {
   "cell_type": "code",
   "execution_count": 32,
   "metadata": {},
   "outputs": [
    {
     "data": {
      "image/png": "[encoded data removed]",
      "text/plain": [
       "<Figure size 640x480 with 1 Axes>"
      ]
     },
     "metadata": {},
     "output_type": "display_data"
    },
    {
     "name": "stdout",
     "output_type": "stream",
     "text": [
      "Accuracy of Neural Network 1: 89%\n",
      "Accuracy of Neural Network 2: 94%\n",
      "Accuracy of Neural Network 3: 94%\n"
     ]
    }
   ],
   "source": [
    "plot_loss([loss_list1, loss_list2, loss_list3], 3)\n",
    "accuracy(regression_model, 1, 5)\n",
    "accuracy(nn_model2, 2, 5)\n",
    "accuracy(nn_model3, 3, 5)\n"
   ]
  },
  {
   "attachments": {},
   "cell_type": "markdown",
   "metadata": {},
   "source": [
    "### Conclusions\n",
    "\n",
    "Following the process done in this notebook, we can answer the following question:\n",
    "\n",
    "1. Which of the three models had the least amount of error for validation? \n",
    "    - From the three models, we can see that the models that have multiple layers have a minimal difference in accuracy, and both models have almost the same loss values and they converge almost to the same value. The only model that stands out in terms of accuracy is model 1 sicne it always contains a constant value of around 89%. This shows clearly that model 1 is low in accuracy due to the lack of epochs to train. To conclude, the models that have the least amount of error for validation are models 2 & 3."
   ]
  }
 ],
 "metadata": {
  "kernelspec": {
   "display_name": "ciic5015",
   "language": "python",
   "name": "python3"
  },
  "language_info": {
   "codemirror_mode": {
    "name": "ipython",
    "version": 3
   },
   "file_extension": ".py",
   "mimetype": "text/x-python",
   "name": "python",
   "nbconvert_exporter": "python",
   "pygments_lexer": "ipython3",
   "version": "3.10.10"
  },
  "orig_nbformat": 4
 },
 "nbformat": 4,
 "nbformat_minor": 2
}
